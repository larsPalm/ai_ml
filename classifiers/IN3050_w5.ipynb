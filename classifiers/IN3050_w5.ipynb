{
 "cells": [
  {
   "cell_type": "markdown",
   "metadata": {},
   "source": [
    "# Week 05: Classification\n",
    "## Introduction\n",
    "The goal of this week is to get a first experience with supervised classification.\n",
    "In particular, we will get familiar with how to set up, run and evaluate experiments.\n",
    "We will also implement the *k*NN-algorithm and the simple perceptron using pure python."
   ]
  },
  {
   "cell_type": "code",
   "execution_count": 1,
   "metadata": {},
   "outputs": [],
   "source": [
    "import numpy as np\n",
    "import matplotlib.pyplot as plt\n",
    "import sklearn"
   ]
  },
  {
   "cell_type": "markdown",
   "metadata": {},
   "source": [
    "## Dataset\n",
    "To do machine learning, we need data.\n",
    "To make it simple, we use scikit-learn to construct a synthetic dataset with\n",
    "- 2 classes\n",
    "- 2 numerical features\n",
    "- 200 items\n",
    "\n",
    "Since we will be using pure python in this exercise set, we transform the data from numpy arrays to lists.\n",
    "\n",
    "Don't worry about the magic recipe for how we cook the data for now!"
   ]
  },
  {
   "cell_type": "code",
   "execution_count": 2,
   "metadata": {},
   "outputs": [],
   "source": [
    "from sklearn.datasets import make_blobs\n",
    "X_np, y_np = make_blobs(n_samples=200, centers=[[0,0],[1,2]], \n",
    "                  n_features=2, random_state=2019)\n",
    "X1 = [(X_np[i,0], X_np[i,1]) for i in range(X_np.shape[0])]\n",
    "y1 = [y_np[i] for i in range(X_np.shape[0])]"
   ]
  },
  {
   "cell_type": "markdown",
   "metadata": {},
   "source": [
    "This is a general form for representing data we will use a lot in this course. We store the features in one list and the labels in another list of the same length. For example, y[14] is the label the dataset ascribes to the input X[14].\n",
    "(Later on we will use numpy arrays and not lists, e.g. the X_np, y_np, above.)\n",
    "\n",
    "We can then take a look at the training set."
   ]
  },
  {
   "cell_type": "code",
   "execution_count": 3,
   "metadata": {},
   "outputs": [],
   "source": [
    "def show(X, y, marker='.'):\n",
    "    labels = set(y)\n",
    "    cl = {lab : [] for lab in labels}\n",
    "    # cl[lab] shall contain the datapoints labeled cl\n",
    "    for (a, b) in zip(X, y):\n",
    "        cl[b].append(a)\n",
    "    for lab in labels:\n",
    "        plt.plot([a[0] for a in cl[lab]], [a[1] for a in cl[lab]], \n",
    "                 marker, label=\"class {}\".format(lab))\n",
    "    plt.legend()"
   ]
  },
  {
   "cell_type": "code",
   "execution_count": 4,
   "metadata": {
    "scrolled": true
   },
   "outputs": [
    {
     "data": {
      "image/png": "[encoded data removed]",
      "text/plain": [
       "<Figure size 432x288 with 1 Axes>"
      ]
     },
     "metadata": {
      "needs_background": "light"
     },
     "output_type": "display_data"
    }
   ],
   "source": [
    "show(X1, y1)"
   ]
  },
  {
   "cell_type": "markdown",
   "metadata": {},
   "source": [
    "## *k*NN\n",
    "We will now implement the *k*NN algorithm.\n",
    "We first need to calculate the distance between two points.\n",
    "\n",
    "There are, of course, methods, e.g. in numpy, that are more than willing to do this for us. But we are here to learn. So we implement it ourselves.\n",
    "\n",
    "### Exercise I: Distance\n",
    "Implement a (L2-) distance function. It should work for points in *n*-dimensional space for any integer *n*>0. Check that dist((3,4,0),(0,0,12)) is 13."
   ]
  },
  {
   "cell_type": "code",
   "execution_count": 5,
   "metadata": {},
   "outputs": [
    {
     "name": "stdout",
     "output_type": "stream",
     "text": [
      "5\n",
      "3\n"
     ]
    }
   ],
   "source": [
    "import math\n",
    "def distance_L2(a,b):\n",
    "    l1 = np.asarray(a)\n",
    "    l2 = np.asarray(b)\n",
    "    dist = 0\n",
    "    for x in range(len(l1)):\n",
    "        dist += (l1[x]-l2[x])**2\n",
    "    return int(math.sqrt(dist))\n",
    "    \"Calculate and return the L2-distance between a and b\"\n",
    "distance_L2((3,4,0),(0,0,12))\n",
    "print(distance_L2((3,4),(0,0)))\n",
    "t1 = X1[0]\n",
    "t2 = X1[1]\n",
    "print(distance_L2(t1,t2))\n"
   ]
  },
  {
   "cell_type": "markdown",
   "metadata": {},
   "source": [
    "### Exercise II: Majority class\n",
    "The next thing we need is a way to determine the majority class from a set of votes. Implement a procedure which takes a list as argument and returns the majority class. "
   ]
  },
  {
   "cell_type": "code",
   "execution_count": 6,
   "metadata": {},
   "outputs": [
    {
     "data": {
      "text/plain": [
       "1"
      ]
     },
     "execution_count": 6,
     "metadata": {},
     "output_type": "execute_result"
    }
   ],
   "source": [
    "def majority(a):\n",
    "    \"\"\"Return the majority class of a\n",
    "    For example majority([0,1,1,1,0]) should return 1\"\"\"\n",
    "    # tatt fra geeks for geeks\n",
    "    return max(set(a), key = a.count)\n",
    "majority([0,1,1,1,0])"
   ]
  },
  {
   "cell_type": "markdown",
   "metadata": {},
   "source": [
    "#### Hint: Counter\n",
    "For this we can use the Counter method. If you are not familiar with Counter, experiment with it to see how it works."
   ]
  },
  {
   "cell_type": "code",
   "execution_count": 7,
   "metadata": {},
   "outputs": [
    {
     "name": "stdout",
     "output_type": "stream",
     "text": [
      "Example\n",
      "['a', 'b', 'c', 'b', 'c']\n",
      "Counter({'b': 2, 'c': 2, 'a': 1})\n",
      "[('b', 2), ('c', 2), ('a', 1)]\n"
     ]
    }
   ],
   "source": [
    "from collections import Counter\n",
    "print(\"Example\")\n",
    "s = ['a', 'b', 'c', 'b', 'c']\n",
    "counts = Counter(s)\n",
    "print(s)\n",
    "print(counts)\n",
    "print(counts.most_common())"
   ]
  },
  {
   "cell_type": "markdown",
   "metadata": {},
   "source": [
    "### Exercise III: the *k*NN algorithm\n",
    "We will use a class for implementing the classifier. We have chosen a format that we can later reuse for various other classifier algorithms. The format is inspired by scikit-learn. We will have a superclass where we can put methods common to the various classification algorithms.\n",
    "\n",
    "The class will have three methods; one `init` where we set the hypermarameters, one `fit` where the training takes place, and one `predict` which predicts the class of a new item after we have trained the classifier.\n",
    "\n",
    "The Training will have the form\n",
    "```python\n",
    "cls = PykNNClassifier(k=5) # OR some other number, default 3\n",
    "cls.fit(X_train, y_train)```\n",
    "\n",
    "We can then classify a new item by e.g.\n",
    "```python\n",
    "p = (1,1)\n",
    "cls.predict(p)```\n",
    "\n",
    "Implement the `predict` method."
   ]
  },
  {
   "cell_type": "code",
   "execution_count": 8,
   "metadata": {},
   "outputs": [],
   "source": [
    "class PyClassifier():\n",
    "    \"\"\"Common methods to all python classifiers --- if any\n",
    "    \n",
    "    Nothing here yet\"\"\""
   ]
  },
  {
   "cell_type": "code",
   "execution_count": 9,
   "metadata": {},
   "outputs": [
    {
     "name": "stdout",
     "output_type": "stream",
     "text": [
      "[1, 0, 0]\n"
     ]
    },
    {
     "data": {
      "text/plain": [
       "0"
      ]
     },
     "execution_count": 9,
     "metadata": {},
     "output_type": "execute_result"
    }
   ],
   "source": [
    "class PykNNClassifier(PyClassifier):\n",
    "    \"\"\"kNN classifier using pure python representations\"\"\"\n",
    "    \n",
    "    def __init__(self, k=3, dist=distance_L2):\n",
    "        self.k = k\n",
    "        self.dist = dist\n",
    "        self.X_train = None\n",
    "        self.y_train = None\n",
    "        \n",
    "    def fit(self, X_train, y_train):\n",
    "        self.X_train = X_train\n",
    "        self.y_train = y_train\n",
    "    \n",
    "    def predict(self, a):\n",
    "        avstand = []\n",
    "        for x in self.X_train:\n",
    "            avstand.append(distance_L2(a,x))\n",
    "        dist = np.asarray(avstand)\n",
    "        indeks = np.argpartition(dist, self.k)\n",
    "        resultat = [self.y_train[indeks[x]] for x in range(self.k)]\n",
    "        print(resultat[:self.k])\n",
    "        return majority(list(resultat[:self.k]))\n",
    "\n",
    "cls = PykNNClassifier(k=3) # OR some other number, default 3\n",
    "cls.fit(X1, y1)\n",
    "p = (1,1)\n",
    "cls.predict(p)"
   ]
  },
  {
   "cell_type": "markdown",
   "metadata": {},
   "source": [
    "### Exercise IV: *k*\n",
    "Experiment with kNN_predict(p, X1, y1, k=k) with various points and values\n",
    "of *k*.\n",
    "Can you find a point *p* where the class is changed by changing the value of *k*?"
   ]
  },
  {
   "cell_type": "markdown",
   "metadata": {},
   "source": [
    "## Experiments and evaluation\n",
    "To check how good the classifier is, we cannot consider singular datapoints. \n",
    "We have to see how the classifier performs on a larger test set.\n",
    "With our synthetic training data, we can make a test set in a similar way.\n",
    "\n",
    "We follow the same recipe as for the training set, but observe that we use a different *random_state* to get a set different from the training set."
   ]
  },
  {
   "cell_type": "code",
   "execution_count": 10,
   "metadata": {},
   "outputs": [],
   "source": [
    "X_np, y_np = make_blobs(n_samples=200, centers=[[0,0],[1,2]], \n",
    "                  n_features=2, random_state=2020)\n",
    "X2 = [(X_np[i,0], X_np[i,1]) for i in range(X_np.shape[0])]\n",
    "y2 = [y_np[i] for i in range(X_np.shape[0])]"
   ]
  },
  {
   "cell_type": "code",
   "execution_count": 11,
   "metadata": {
    "scrolled": true
   },
   "outputs": [
    {
     "data": {
      "image/png": "[encoded data removed]",
      "text/plain": [
       "<Figure size 432x288 with 1 Axes>"
      ]
     },
     "metadata": {
      "needs_background": "light"
     },
     "output_type": "display_data"
    }
   ],
   "source": [
    "show(X2, y2, 'x')"
   ]
  },
  {
   "cell_type": "markdown",
   "metadata": {},
   "source": [
    "### Exercise V: Accuracy\n",
    "There are several different evaluation measures that can be used, and we will see a couple of them the coming weeks. For today, we only consider the simple *accuracy*, the proportion of items classified correctly.\n",
    "Implement a method for accuracy in `PyClassifier()`, so that it can be reused in other classifiers. \n",
    "After you have updated `PyClassifier()`, you have to rerun \n",
    "`class PykNNClassifier(PyClassifier)`.\n",
    "After we have trained the classifier, we can call it as follows:\n",
    "```python\n",
    "cls.accuracy(X_test, y_test)```\n",
    "It should return a numerical value.\n",
    "\n",
    "Implement a function which calculates the accuracy of the\n",
    "kNN_predict.\n",
    "Test it on X2, y2 when trained on X1, y1 for various values of *k*.\n",
    "Let *k* be any odd integer below 20. Plot the results.\n",
    "\n",
    "Beware that there is no *k* which is the best for all datasets. It varies with the dataset. To decide on the best *k* for a specific dataset, we should use a separate development test set to determine the best *k*. Then we fix this *k* and test on the final test set. "
   ]
  },
  {
   "cell_type": "code",
   "execution_count": 12,
   "metadata": {},
   "outputs": [],
   "source": [
    "class PyClassifier():\n",
    "    \"\"\"Common methods to all python classifiers --- if any\"\"\"\n",
    "    \n",
    "    def accuracy(self,X_test, y_test, **kwargs):\n",
    "        \"\"\"Calculate the accuracy of the classifier \n",
    "        using the predict method\"\"\"\n",
    "        score = 0\n",
    "        for x in range(len(X_test)):\n",
    "            if X_test[x] == y_test[x]:\n",
    "                score += 1\n",
    "        return score/len(X_test)"
   ]
  },
  {
   "cell_type": "code",
   "execution_count": 13,
   "metadata": {},
   "outputs": [],
   "source": [
    "# testing\n",
    "pyClass = PyClassifier()\n",
    "pyKnn = PykNNClassifier(pyClass)\n"
   ]
  },
  {
   "cell_type": "markdown",
   "metadata": {},
   "source": [
    "### Exercise VI: Variation"
   ]
  },
  {
   "cell_type": "code",
   "execution_count": null,
   "metadata": {},
   "outputs": [],
   "source": []
  },
  {
   "cell_type": "markdown",
   "metadata": {},
   "source": [
    "One should be cautious drawing too strong conclusions from an experiment like this. Check whether you get the same result with a different random test set drawn from the same distribution."
   ]
  },
  {
   "cell_type": "markdown",
   "metadata": {},
   "source": [
    "## Perceptron classifier\n",
    "We turn to the perceptron classifier. \n",
    "We will first consider some \"paper-or-pencil\" exercises to get more familiar with the algorithm, before we consider an implementation."
   ]
  },
  {
   "cell_type": "markdown",
   "metadata": {},
   "source": [
    "### Exercise VII.i\n",
    "You want to predict if movies will be profitable based on their screenplays. You hire two critics A and B to read a script you have and rate it on a scale of 1 to 6. The critics are not perfect; here are five data points including the critics' scores and the performance of the movie:\n",
    "```\n",
    "| Movie # | Alice    | Bob       | Profitable? |\n",
    "|  _______|__________|___________|_____________|\n",
    "|  1      | 1        | 1         |      no     |\n",
    "|  _______|__________|___________|_____________|\n",
    "|  2      | 4        | 3         |      yes    |\n",
    "|  _______|__________|___________|_____________|\n",
    "|  3      | 3        | 5         |      yes    |\n",
    "|  _______|__________|___________|_____________|\n",
    "|  4      | 5        | 6         |      yes    |\n",
    "|  _______|__________|___________|_____________|\n",
    "|  5      | 2        | 3         |      no     |\n",
    "|  _______|__________|___________|_____________|\n",
    "```\n",
    "Is the data linearily separable? Plot the data on the 2D plane below; label profitable movies with + and non-profitable movies with - and determine if the data are linearily separable."
   ]
  },
  {
   "cell_type": "markdown",
   "metadata": {},
   "source": [
    "### Exercise VII.ii\n",
    "\n",
    "Now you decide to use a perceptron to classify your data. Suppose you directly use the scores given above as features, together with a bias feature. That is 𝑓0=1, 𝑓1 = score given by A and 𝑓2\n",
    "= score given by B.\n",
    "\n",
    "Run one pass through the data with the perceptron algorithm, filling out the table below. Go through the data points in order, e.g. using data point 0 at step 1. For each of the 5 steps write the current state of the weights, the score, and whether the prediction is correct.\n",
    "\n",
    "```\n",
    "| Step | Weights    | Score                   | Correct predicition? |\n",
    "_______|____________|_________________________|______________________|\n",
    "|  1   | (-1, 0, 0) | -1*1 + 0*1 + 0 * 1 = -1 |      yes             |\n",
    "_______|____________|_________________________|______________________|\n",
    "|  2   |            |                         |                      |\n",
    "_______|____________|_________________________|______________________|\n",
    "|  3   |            |                         |                      |\n",
    "_______|____________|_________________________|______________________|\n",
    "|  4   |            |                         |                      |\n",
    "_______|____________|_________________________|______________________|\n",
    "|  5   |            |                         |                      |\n",
    "_______|____________|_________________________|______________________|\n",
    "\n",
    "```"
   ]
  },
  {
   "cell_type": "markdown",
   "metadata": {},
   "source": [
    "### Exercise VII.iii\n",
    " Have weights been learned that separate the data?"
   ]
  },
  {
   "cell_type": "markdown",
   "metadata": {},
   "source": [
    "### Exercise VII.iv\n",
    "More generally, irrespective of the training data, you want to know if your features are powerful enough to allow you to handle a range of scenarios. Which of the following scenarios can a perceptron using the features above  indeed perfectly classify movies which are profitable according to the given rules:\n",
    "\n",
    "1. Your reviewers are awesome: if the total of their scores is more than 8, then the movie will definitely be profitable, and otherwise it won't be.\n",
    "\n",
    "2. Your reviewers are art critics. Your movie will be profitable if and only if each reviewer gives either a score of 3 or a score of 4.\n",
    "\n",
    "3. Your reviewers have weird but different tastes. Your movie will be profitable if and only if both reviewers agree."
   ]
  },
  {
   "cell_type": "markdown",
   "metadata": {},
   "source": [
    "### Exercise VIII, Implementing the perceptron learning algorithm\n",
    "We will use the same framework as for the *k*NN-classifier. You should implement the two methods `fit` and `predict`. You don't need a `__init__` method. You may include other methods if you find it convenient.\n",
    "\n",
    "The main part of the perceptron classifier is the `fit` method that trains the perceptron.\n",
    "`eta`is the learning rate\n",
    "One `epoch` is a run through all the training data.\n",
    "We have set the default to one epoch, but you might need more.\n",
    "Remember to add the bias to the data."
   ]
  },
  {
   "cell_type": "code",
   "execution_count": 14,
   "metadata": {},
   "outputs": [],
   "source": [
    "import random as r\n",
    "\n",
    "class PyPerClassifier(PyClassifier):\n",
    "    \"\"\"Simple perceptron python classifier\"\"\"\n",
    "        \n",
    "    def fit(self, X_train, y_train, eta=1, epochs=1):\n",
    "        \"\"\"Train the self.weights on the training data eith learning\n",
    "        rate eta, running epochs many epochs\"\"\"\n",
    "        self.w = np.ones(X_train.shape[1])\n",
    "        self.b = 0\n",
    "        accuracy_list = {}\n",
    "        max_accuracy = 0\n",
    "        wt_matrix = []\n",
    "        for i in range(epochs):\n",
    "            for x in range(len(X_train)):\n",
    "                y = y_train[x]\n",
    "                res = np.dot(X_train[x],self.w)+self.b\n",
    "                if res > 0:\n",
    "                    y_pred = 1\n",
    "                else:\n",
    "                    y_pred = 0\n",
    "\n",
    "                if y == 1 and y_pred == 0:\n",
    "                    self.w = self.w + eta*x\n",
    "                    self.b = self.b - eta*1\n",
    "\n",
    "                elif y == 0 and y_pred == 1:\n",
    "                    self.w = self.w - eta*x\n",
    "                    self.b = self.b + eta*1\n",
    "            wt_matrix.append(self.w)\n",
    "            print(wt_matrix)\n",
    "            accuracy_list[i] = self.accuracy(self.predict_all(X_train), y_train)\n",
    "            if (accuracy_list[i] > max_accuracy):\n",
    "                max_accuracy = accuracy_list[i]\n",
    "                chkptw = self.w\n",
    "                chkptb = self.b\n",
    "        #checkpoint (Save the weights and b value)\n",
    "        self.w = chkptw\n",
    "        self.b = chkptb\n",
    "        return np.array(wt_matrix)\n",
    "                \n",
    "    def predict_all(self,X_train):\n",
    "        Y = []\n",
    "        for x in X_train:\n",
    "            res = np.dot(x,self.w)+self.b\n",
    "            res = np.dot(x,self.w)+self.b\n",
    "            if res > 0:\n",
    "                y_pred = 1\n",
    "            else:\n",
    "                y_pred = 0\n",
    "            Y.append(y_pred)\n",
    "        return np.array(Y)\n",
    "                \n",
    "    def predict(self, x):\n",
    "        \"\"\"Predict the value for the item x\"\"\"\n",
    "        res = np.dot(x,self.w)+self.b\n",
    "        if res > 0:\n",
    "            y_pred = 1\n",
    "        else:\n",
    "            y_pred = 0\n",
    "        return y_pred\n",
    "    \n",
    "    def accuracy(self,X_test, y_test, **kwargs):\n",
    "        \"\"\"Calculate the accuracy of the classifier \n",
    "        using the predict method\"\"\"\n",
    "        score = 0\n",
    "        for x in range(len(X_test)):\n",
    "            if X_test[x] == y_test[x]:\n",
    "                score += 1\n",
    "        return score/len(X_test)\n"
   ]
  },
  {
   "cell_type": "code",
   "execution_count": 15,
   "metadata": {},
   "outputs": [
    {
     "name": "stdout",
     "output_type": "stream",
     "text": [
      "[array([-8., -8.])]\n",
      "[[-8. -8.]]\n",
      "[array([91., 91.])]\n",
      "[[91. 91.]]\n",
      "0\n",
      "1\n"
     ]
    }
   ],
   "source": [
    "# testing\n",
    "perceptron =PyPerClassifier()\n",
    "print(perceptron.fit(np.asarray(X1),np.asarray(y1)))\n",
    "print(perceptron.fit(np.asarray(X2),np.asarray(y2)))\n",
    "print(perceptron.predict((-1,-2)))\n",
    "print(perceptron.predict((2,3)))"
   ]
  },
  {
   "cell_type": "markdown",
   "metadata": {},
   "source": [
    "### Exercise IX\n",
    "Train PyPerClassifier_on1  X1, y1 and test on X2, y2 as with the *k*NN-classifier. Try various numbers of epochs and see whether it makes a difference.\n",
    "\n",
    "Is X2, y2 linearly separable?"
   ]
  },
  {
   "cell_type": "markdown",
   "metadata": {},
   "source": [
    "### Exercise X: termination and weights\n",
    "- Extend the *PyPerClassifier()* with a method such that we can inspect the weights after training  is completed.\n",
    "- Modify the *fit*-method of the classifier such that training halts when there are no more updates, and it is possible to inspect how many epochs it took.\n",
    "- Run this on the five points film critics dataset. How many epochs does it take to reach completion?\n",
    "- What are the final weights? Can you plot the decision border that corresponds to these weights together with the data set?"
   ]
  }
 ],
 "metadata": {
  "kernelspec": {
   "display_name": "Python 3",
   "language": "python",
   "name": "python3"
  },
  "language_info": {
   "codemirror_mode": {
    "name": "ipython",
    "version": 3
   },
   "file_extension": ".py",
   "mimetype": "text/x-python",
   "name": "python",
   "nbconvert_exporter": "python",
   "pygments_lexer": "ipython3",
   "version": "3.7.3"
  }
 },
 "nbformat": 4,
 "nbformat_minor": 2
}
